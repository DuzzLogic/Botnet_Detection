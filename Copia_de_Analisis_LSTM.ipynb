{
  "nbformat": 4,
  "nbformat_minor": 0,
  "metadata": {
    "colab": {
      "name": "Copia de Analisis_LSTM.ipynb",
      "provenance": [],
      "collapsed_sections": []
    },
    "kernelspec": {
      "name": "python3",
      "display_name": "Python 3"
    },
    "accelerator": "GPU"
  },
  "cells": [
    {
      "cell_type": "code",
      "metadata": {
        "id": "P4wbndn6jrCq"
      },
      "source": [
        "import pandas as pd\n",
        "import numpy as np\n",
        "from google.colab import files\n",
        " \n",
        "import tensorflow as tf\n",
        "from tensorflow import keras\n",
        " \n",
        "from keras.preprocessing.text import Tokenizer\n",
        " \n",
        "from keras.layers import Dense, Dropout, LSTM, Bidirectional, Embedding, Input, GRU, TimeDistributed\n",
        "from keras.models import Sequential\n",
        " \n",
        "from sklearn.model_selection import train_test_split, ShuffleSplit\n",
        "from sklearn.metrics import confusion_matrix\n",
        " \n",
        "from imblearn.under_sampling import RandomUnderSampler\n",
        "from imblearn.over_sampling import RandomOverSampler"
      ],
      "execution_count": null,
      "outputs": []
    },
    {
      "cell_type": "markdown",
      "metadata": {
        "id": "uxDmDEmci7Bk"
      },
      "source": [
        "# Analisis dataset de entrenamiento (CTU19)"
      ]
    },
    {
      "cell_type": "code",
      "metadata": {
        "id": "PExjlFgFh-yi"
      },
      "source": [
        "# Se carga los datasets\n",
        "url = 'https://raw.githubusercontent.com/DuzzLogic/Botnet_Detection/main/ctu19_s.csv'\n",
        "ctu19 = pd.read_csv(url)\n",
        " \n",
        "url = 'https://raw.githubusercontent.com/DuzzLogic/Botnet_Detection/main/ctu13_s.csv'\n",
        "ctu13 = pd.read_csv(url)"
      ],
      "execution_count": 2,
      "outputs": []
    },
    {
      "cell_type": "code",
      "metadata": {
        "id": "l9pN46ygjcRB",
        "colab": {
          "base_uri": "https://localhost:8080/",
          "height": 0
        },
        "outputId": "a30fa244-dbdd-4d2f-af7c-5f7021ded80e"
      },
      "source": [
        "#Distribucion de clases CTU19\r\n",
        "ctu19['Label'].value_counts()"
      ],
      "execution_count": 3,
      "outputs": [
        {
          "output_type": "execute_result",
          "data": {
            "text/plain": [
              "Botnet    25818\n",
              "Normal     1596\n",
              "Name: Label, dtype: int64"
            ]
          },
          "metadata": {
            "tags": []
          },
          "execution_count": 3
        }
      ]
    },
    {
      "cell_type": "markdown",
      "metadata": {
        "id": "GyUulJlflntn"
      },
      "source": [
        "# Funciones"
      ]
    },
    {
      "cell_type": "code",
      "metadata": {
        "id": "JOwCb-4z9KAX"
      },
      "source": [
        "import os\r\n",
        "from subprocess import getoutput\r\n",
        "getoutput(\"git clone -l -s https://github.com/DuzzLogic/Botnet_Detection cloned-repo\")\r\n",
        "os.chdir('cloned-repo')\r\n",
        "import funjr"
      ],
      "execution_count": 4,
      "outputs": []
    },
    {
      "cell_type": "code",
      "metadata": {
        "id": "WlXhzNyc8grU"
      },
      "source": [
        "def to_sequence(x, y):\n",
        "  # Tokenización a nivel de caracter\n",
        "  tokenizer = Tokenizer(num_words=51, char_level=True, lower= False)\n",
        " \n",
        "  # Se actualiza el vocabulario interno basado en una lista de cadenas de caracteres.\n",
        "  tokenizer.fit_on_texts(\"abcdefghiABCDEFGHIrstuvwxyzRSTUVWXYZ123456789.,+*0\")\n",
        "  \n",
        "  # Se transforma cada secuencia en una secuencia de números enteros.\n",
        "  sequence_x = tokenizer.texts_to_sequences(x)\n",
        "  \n",
        "  sequence_x = tf.keras.preprocessing.sequence.pad_sequences(\n",
        "    sequence_x, maxlen = 1000, dtype = 'int32' , padding='post', truncating='post', value=0\n",
        "  )\n",
        "\n",
        "  y = np.array([1 if x == \"Botnet\" else 0 for x in y], dtype='int32')\n",
        " \n",
        "  return sequence_x, y"
      ],
      "execution_count": 5,
      "outputs": []
    },
    {
      "cell_type": "markdown",
      "metadata": {
        "id": "Wi7sy3PX12Qj"
      },
      "source": [
        "# Model"
      ]
    },
    {
      "cell_type": "code",
      "metadata": {
        "id": "qyAjXI03RdOh"
      },
      "source": [
        "# Crea el modelo\n",
        "def create_model(x_train, y_train):\n",
        "  model = Sequential()\n",
        "  model.add(Embedding(input_dim = 51,output_dim= 1000, input_length=1000))\n",
        "  model.add(Bidirectional(LSTM(units = 128, input_shape=(1000,50), return_sequences=True)))\n",
        "  #model.add(LSTM(units = 128, input_shape=(1000,50), return_sequences=True))\n",
        "  model.add(Dropout(0.1))\n",
        "  model.add(funjr.AttentionWithContext())\n",
        "  model.add(Dense(1, activation='sigmoid'))\n",
        " \n",
        "  model.compile(optimizer= 'rmsprop', loss='binary_crossentropy', metrics=['acc'])\n",
        "\n",
        "  model.fit(x_train, y_train,\n",
        "  epochs = 10,\n",
        "  #epochs=30,\n",
        "  validation_split=0.2)\n",
        " \n",
        "  return model"
      ],
      "execution_count": 6,
      "outputs": []
    },
    {
      "cell_type": "code",
      "metadata": {
        "id": "4frds4uzN_kq"
      },
      "source": [
        "# Se entrena el modelo\n",
        "def train_model(x_train, y_train):\n",
        "  sequence_train, y_train = to_sequence(x_train, y_train)\n",
        "\n",
        "  model = create_model(sequence_train, y_train)\n",
        "\n",
        "  return model"
      ],
      "execution_count": 7,
      "outputs": []
    },
    {
      "cell_type": "code",
      "metadata": {
        "id": "AzRKRi7DJj27"
      },
      "source": [
        "# Se realiza una prediccion y se evaluan los resultados\r\n",
        "def predict_test(model, x_test, y_test):\r\n",
        "  sequence_test, y_test = to_sequence(x_test, y_test)\r\n",
        "\r\n",
        "  prediction = [0 if x < 0.5 else 1 for x in model.predict(sequence_test)]\r\n",
        "\r\n",
        "  return funjr.calculate_metrics(prediction, y_test)"
      ],
      "execution_count": 8,
      "outputs": []
    },
    {
      "cell_type": "code",
      "metadata": {
        "id": "2qJpE-soSk5b",
        "colab": {
          "base_uri": "https://localhost:8080/"
        },
        "outputId": "0f7494af-8cf8-4308-e286-d941d53706c0"
      },
      "source": [
        "x_train = ctu19['State']\n",
        "y_train = ctu19['Label']\n",
        "\n",
        "# Montecarlo cross-validation split\n",
        "#mc = ShuffleSplit(n_splits=30, test_size = 0.3, random_state=1)\n",
        "mc = ShuffleSplit(n_splits=2, test_size = 0.3, random_state=1)\n",
        "mc.get_n_splits(x_train)\n",
        "\n",
        "metrics = []\n",
        "count = 0\n",
        "for train, test in mc.split(x_train):\n",
        "  # Aplicamos over y undersampling \n",
        "  x, y = funjr.bothSam(x_train[train], y_train[train], 0.1)\n",
        "\n",
        "  metrics.append(predict_test(train_model(x, y), x_train[test], y_train[test]))\n",
        "  count += 1\n",
        "  print(count) \n",
        "\n",
        "# Guardar resultados\n",
        "metrics = pd.DataFrame(metrics)\n",
        "metrics = metrics.rename(columns={\n",
        "                                      0 : 'Specificity',\n",
        "                                      1 : 'Sensitivity',\n",
        "                                      2 : 'Balanced Accuracy',\n",
        "                                      3 : 'F1'\n",
        "  })\n"
      ],
      "execution_count": 11,
      "outputs": [
        {
          "output_type": "stream",
          "text": [
            "91/91 [==============================] - 17s 185ms/step - loss: 0.1379 - acc: 0.9469 - val_loss: 0.1139 - val_acc: 0.9737\n",
            "Epoch 9/10\n",
            "91/91 [==============================] - 17s 185ms/step - loss: 0.1394 - acc: 0.9449 - val_loss: 0.2084 - val_acc: 0.9530\n",
            "Epoch 10/10\n",
            "91/91 [==============================] - 17s 185ms/step - loss: 0.1308 - acc: 0.9496 - val_loss: 0.1254 - val_acc: 0.9433\n",
            "1\n"
          ],
          "name": "stdout"
        },
        {
          "output_type": "stream",
          "text": [
            "/usr/local/lib/python3.7/dist-packages/sklearn/utils/deprecation.py:87: FutureWarning: Function safe_indexing is deprecated; safe_indexing is deprecated in version 0.22 and will be removed in version 0.24.\n",
            "  warnings.warn(msg, category=FutureWarning)\n",
            "/usr/local/lib/python3.7/dist-packages/sklearn/utils/deprecation.py:87: FutureWarning: Function safe_indexing is deprecated; safe_indexing is deprecated in version 0.22 and will be removed in version 0.24.\n",
            "  warnings.warn(msg, category=FutureWarning)\n"
          ],
          "name": "stderr"
        },
        {
          "output_type": "stream",
          "text": [
            "Epoch 1/10\n",
            "91/91 [==============================] - 20s 192ms/step - loss: 0.3491 - acc: 0.8107 - val_loss: 0.1614 - val_acc: 0.9224\n",
            "Epoch 2/10\n",
            "91/91 [==============================] - 17s 186ms/step - loss: 0.1939 - acc: 0.9196 - val_loss: 0.1765 - val_acc: 0.9224\n",
            "Epoch 3/10\n",
            "91/91 [==============================] - 17s 186ms/step - loss: 0.1627 - acc: 0.9388 - val_loss: 0.2877 - val_acc: 0.9017\n",
            "Epoch 4/10\n",
            "91/91 [==============================] - 17s 185ms/step - loss: 0.1849 - acc: 0.9242 - val_loss: 0.2014 - val_acc: 0.9529\n",
            "Epoch 5/10\n",
            "91/91 [==============================] - 17s 186ms/step - loss: 0.1673 - acc: 0.9295 - val_loss: 0.1599 - val_acc: 0.9252\n",
            "Epoch 6/10\n",
            "91/91 [==============================] - 17s 186ms/step - loss: 0.1521 - acc: 0.9371 - val_loss: 0.2252 - val_acc: 0.9197\n",
            "Epoch 7/10\n",
            "91/91 [==============================] - 17s 186ms/step - loss: 0.1553 - acc: 0.9331 - val_loss: 0.1673 - val_acc: 0.9266\n",
            "Epoch 8/10\n",
            "91/91 [==============================] - 17s 186ms/step - loss: 0.1682 - acc: 0.9268 - val_loss: 0.1694 - val_acc: 0.9238\n",
            "Epoch 9/10\n",
            "91/91 [==============================] - 17s 186ms/step - loss: 0.1391 - acc: 0.9459 - val_loss: 0.2237 - val_acc: 0.9321\n",
            "Epoch 10/10\n",
            "91/91 [==============================] - 17s 187ms/step - loss: 0.1496 - acc: 0.9440 - val_loss: 0.1693 - val_acc: 0.9211\n",
            "2\n"
          ],
          "name": "stdout"
        }
      ]
    },
    {
      "cell_type": "code",
      "metadata": {
        "colab": {
          "base_uri": "https://localhost:8080/",
          "height": 110
        },
        "id": "CCjreAlrM9w3",
        "outputId": "1fd6a87b-0728-48a5-e28e-df6889351579"
      },
      "source": [
        "metrics"
      ],
      "execution_count": 12,
      "outputs": [
        {
          "output_type": "execute_result",
          "data": {
            "text/html": [
              "<div>\n",
              "<style scoped>\n",
              "    .dataframe tbody tr th:only-of-type {\n",
              "        vertical-align: middle;\n",
              "    }\n",
              "\n",
              "    .dataframe tbody tr th {\n",
              "        vertical-align: top;\n",
              "    }\n",
              "\n",
              "    .dataframe thead th {\n",
              "        text-align: right;\n",
              "    }\n",
              "</style>\n",
              "<table border=\"1\" class=\"dataframe\">\n",
              "  <thead>\n",
              "    <tr style=\"text-align: right;\">\n",
              "      <th></th>\n",
              "      <th>Specificity</th>\n",
              "      <th>Sensitivity</th>\n",
              "      <th>Balanced Accuracy</th>\n",
              "      <th>F1</th>\n",
              "    </tr>\n",
              "  </thead>\n",
              "  <tbody>\n",
              "    <tr>\n",
              "      <th>0</th>\n",
              "      <td>0.898129</td>\n",
              "      <td>0.948993</td>\n",
              "      <td>0.923561</td>\n",
              "      <td>0.970678</td>\n",
              "    </tr>\n",
              "    <tr>\n",
              "      <th>1</th>\n",
              "      <td>0.908277</td>\n",
              "      <td>0.954101</td>\n",
              "      <td>0.931189</td>\n",
              "      <td>0.973885</td>\n",
              "    </tr>\n",
              "  </tbody>\n",
              "</table>\n",
              "</div>"
            ],
            "text/plain": [
              "   Specificity  Sensitivity  Balanced Accuracy        F1\n",
              "0     0.898129     0.948993           0.923561  0.970678\n",
              "1     0.908277     0.954101           0.931189  0.973885"
            ]
          },
          "metadata": {
            "tags": []
          },
          "execution_count": 12
        }
      ]
    }
  ]
}